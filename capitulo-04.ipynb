{
 "cells": [
  {
   "cell_type": "markdown",
   "metadata": {},
   "source": [
    "Lidando com diferentes layout de sites\n",
    "O código abaixo, mostra um exemplo de uma classe \"Content\" e duas funções de coleta de dados que aceitam um objeto BeautifulSoup e devolvem uma instância de Content."
   ]
  },
  {
   "cell_type": "code",
   "execution_count": 12,
   "metadata": {},
   "outputs": [
    {
     "name": "stdout",
     "output_type": "stream",
     "text": [
      "Title:   1º navio de grãos liberado após acordo entre Rússia e Ucrânia é rejeitado por atraso   \n",
      "URL: https://noticias.uol.com.br/ultimas-noticias/ansa/2022/08/08/comprador-rejeita-1-carga-de-graos-que-saiu-da-ucrania.htm\n",
      "Notícias do conflito entre Rússia e Ucrânia\n",
      "08/08/2022 18h15 \n",
      "A primeira carga de grãos de milho que saiu da Ucrânia após o acordo com a Rússia para o desbloqueio do Mar Negro foi rejeitada pelo comprador e agora aguarda um novo interessado na compra, informou a embaixada do país em Beirute nesta segunda-feira (8).\n",
      "As 26 mil toneladas do produto deveriam ter sido desembarcadas neste domingo (7), mas o navio Razoni ainda continua próximo ao mar turco. Por conta do adiamento, a embarcação não pode entrar no porto de Beirute, no Líbano.\n",
      "\n",
      "O comprador teria desistido do produto pelo atraso na entrega, de mais de cinco meses. Agora, a embaixada informou que está em busca de um novo comprador - que pode estar no Líbano ou em algum outro país da região.\n",
      "O bloqueio aos portos ucranianos foi iniciado no primeiro dia da invasão da Rússia, em 24 de fevereiro, e só chegou ao fim após um acordo firmado entre Kiev e Moscou, com intermediação de Ancara e da Organização das Nações Unidas, em 22 de julho.\n",
      "Desde o dia 1º de agosto, quando o Rizoma deixou o porto de Odessa, outros cinco navios deixaram o mesmo local e os portos de Chornomorsk e Pivdennyi. Inclusive nesta segunda, a embarcação Polarnet, de bandeira turca, já chegou ao porto de Derince e está descarregando sua carga.Conforme dados de Kiev, há cerca de 20 milhões de toneladas de grãos e cereais parados nos portos ucranianos desde fevereiro aguardando o embarque.\n",
      " ID: {{comments.info.id}}URL: {{comments.info.url}}\n",
      "Por favor, tente novamente mais tarde.\n",
      "\n",
      "Não é possivel enviar novos comentários.\n",
      "Apenas assinantes podem ler e comentar\n",
      "Ainda não é assinante? Assine já.\n",
      "Se você já é assinante do UOL, faça seu login.\n",
      "O autor da mensagem, e não o UOL, é o responsável pelo comentário. Leia os termos de uso\n",
      "\n",
      "\n"
     ]
    }
   ],
   "source": [
    "import requests\n",
    "from bs4 import BeautifulSoup\n",
    "\n",
    "class Content:\n",
    "    def __init__(self, url, title, body):\n",
    "        self.url = url\n",
    "        self.title = title\n",
    "        self.body = body\n",
    "\n",
    "def getPage(url):\n",
    "    req = requests.get(url)\n",
    "    return BeautifulSoup(req.text, 'html.parser')\n",
    "\n",
    "def scrapeNoticiasUol(url):\n",
    "    bs = getPage(url)\n",
    "    title = bs.find(\"h1\").text\n",
    "    lines = bs.find_all(\"p\")\n",
    "    body = '\\n'.join([line.text for line in lines])\n",
    "    return Content(url, title, body)\n",
    "\n",
    "def scrapeBrookings(url):\n",
    "    bs = getPage(url)\n",
    "    title = bs.find(\"h1\").text\n",
    "    body = bs.find(\"div\", {\"class\", \"post-body\"}).text\n",
    "    return Content(url, title, body)\n",
    "\n",
    "url = 'https://www.brookings.edu/blog/future-development/2018/01/26/delivering-inclusive-urban-access-3-uncomfortable-truths/'\n",
    "content = scrapeBrookings(url)\n",
    "print('Title: {}'.format(content.title))\n",
    "print('URL: {}'.format(content.url))\n",
    "print(content.body)\n",
    "\n",
    "\n",
    "# Obs: No livro o autor usou o site do The New York Times, porém agora o site\n",
    "# Solicita que o leitor adquira um plano de leitura.\n",
    "# Para trazer algo que funcione ao código adaptei o código para o Uol Notícias\n",
    "url = 'https://noticias.uol.com.br/ultimas-noticias/ansa/2022/08/08/comprador-rejeita-1-carga-de-graos-que-saiu-da-ucrania.htm'\n",
    "content = scrapeNoticiasUol(url)\n",
    "print('Title: {}'.format(content.title))\n",
    "print('URL: {}'.format(content.url))\n",
    "print(content.body)"
   ]
  }
 ],
 "metadata": {
  "kernelspec": {
   "display_name": "Python 3.10.0 64-bit",
   "language": "python",
   "name": "python3"
  },
  "language_info": {
   "codemirror_mode": {
    "name": "ipython",
    "version": 3
   },
   "file_extension": ".py",
   "mimetype": "text/x-python",
   "name": "python",
   "nbconvert_exporter": "python",
   "pygments_lexer": "ipython3",
   "version": "3.10.0"
  },
  "orig_nbformat": 4,
  "vscode": {
   "interpreter": {
    "hash": "3292aac4fa142a3d6f51f934fe9bab4eae34c6a6f75ad15485f78f7da0f16cb4"
   }
  }
 },
 "nbformat": 4,
 "nbformat_minor": 2
}
